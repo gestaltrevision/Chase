{
 "metadata": {
  "name": ""
 },
 "nbformat": 3,
 "nbformat_minor": 0,
 "worksheets": [
  {
   "cells": [
    {
     "cell_type": "code",
     "collapsed": false,
     "input": [
      "%pylab inline\n",
      "from matustools.images2gif import writeGif\n",
      "import pystan"
     ],
     "language": "python",
     "metadata": {},
     "outputs": [
      {
       "output_type": "stream",
       "stream": "stdout",
       "text": [
        "Populating the interactive namespace from numpy and matplotlib\n"
       ]
      },
      {
       "output_type": "stream",
       "stream": "stderr",
       "text": [
        "/usr/lib/pymodules/python2.7/matplotlib/__init__.py:758: UserWarning: Found matplotlib configuration in ~/.matplotlib/. To conform with the XDG base directory standard, this configuration location has been deprecated on Linux, and the new location is now '/home/matus/.config'/matplotlib/. Please move your configuration there to ensure that matplotlib will continue to find it in the future.\n",
        "  _get_xdg_config_dir())\n"
       ]
      }
     ],
     "prompt_number": 1
    },
    {
     "cell_type": "code",
     "collapsed": false,
     "input": [
      "E=np.load('DG.npy')\n",
      "E.shape"
     ],
     "language": "python",
     "metadata": {},
     "outputs": [
      {
       "metadata": {},
       "output_type": "pyout",
       "prompt_number": 2,
       "text": [
        "(6800, 68, 14, 2)"
       ]
      }
     ],
     "prompt_number": 2
    },
    {
     "cell_type": "code",
     "collapsed": false,
     "input": [
      "d=np.linalg.norm(E,axis=3)\n",
      "d=np.sort(d,axis=2)\n",
      "y=np.sum(d<4,axis=2)\n",
      "print y.shape\n",
      "y=np.mean(y,axis=0)\n",
      "plt.plot(y);"
     ],
     "language": "python",
     "metadata": {},
     "outputs": [
      {
       "output_type": "stream",
       "stream": "stdout",
       "text": [
        "(6800, 68)\n"
       ]
      },
      {
       "output_type": "stream",
       "stream": "stderr",
       "text": [
        "/usr/lib/pymodules/python2.7/matplotlib/figure.py:1595: UserWarning: This figure includes Axes that are not compatible with tight_layout, so its results might be incorrect.\n",
        "  warnings.warn(\"This figure includes Axes that are not \"\n"
       ]
      },
      {
       "metadata": {},
       "output_type": "display_data",
       "png": "[encoded data removed]",
       "text": [
        "<matplotlib.figure.Figure at 0x7fa088146650>"
       ]
      }
     ],
     "prompt_number": 3
    },
    {
     "cell_type": "code",
     "collapsed": false,
     "input": [
      "traj=E[0,:,:,:]\n",
      "traj.shape"
     ],
     "language": "python",
     "metadata": {},
     "outputs": [
      {
       "metadata": {},
       "output_type": "pyout",
       "prompt_number": 4,
       "text": [
        "(68, 14, 2)"
       ]
      }
     ],
     "prompt_number": 4
    },
    {
     "cell_type": "code",
     "collapsed": false,
     "input": [
      "def plotTraj(D,clr='k',rad=5):\n",
      "    ax=plt.gca()\n",
      "    for a in range(D.shape[1]):\n",
      "        plt.plot(D[:,a,0],D[:,a,1],'-'+clr,linewidth=2)\n",
      "        ar=plt.arrow(D[-2,a,0],D[-2,a,1],D[-1,a,0]-D[-2,a,0],D[-1,a,1]-D[-2,a,1],\n",
      "              length_includes_head=False,head_width=0.2,fc=clr)\n",
      "        ax.add_patch(ar)\n",
      "    c=plt.Circle((0,0),rad,fc='r',alpha=0.1,ec=None)\n",
      "    ax.add_patch(c)\n",
      "    m=D.shape[0]/2\n",
      "    plt.plot(D[m,:,0],D[m,:,1],'or')\n",
      "    ax.set_aspect(1);lim=3*rad/2\n",
      "    plt.xlim([-lim,lim])\n",
      "    plt.ylim([-lim,lim])\n",
      "    \n",
      "plotTraj(traj)"
     ],
     "language": "python",
     "metadata": {},
     "outputs": [
      {
       "ename": "ValueError",
       "evalue": "The truth value of an array with more than one element is ambiguous. Use a.any() or a.all()",
       "output_type": "pyerr",
       "traceback": [
        "\u001b[1;31m---------------------------------------------------------------------------\u001b[0m\n\u001b[1;31mValueError\u001b[0m                                Traceback (most recent call last)",
        "\u001b[1;32m<ipython-input-5-ff140df131d1>\u001b[0m in \u001b[0;36m<module>\u001b[1;34m()\u001b[0m\n\u001b[0;32m     14\u001b[0m     \u001b[0mplt\u001b[0m\u001b[1;33m.\u001b[0m\u001b[0mylim\u001b[0m\u001b[1;33m(\u001b[0m\u001b[1;33m[\u001b[0m\u001b[1;33m-\u001b[0m\u001b[0mlim\u001b[0m\u001b[1;33m,\u001b[0m\u001b[0mlim\u001b[0m\u001b[1;33m]\u001b[0m\u001b[1;33m)\u001b[0m\u001b[1;33m\u001b[0m\u001b[0m\n\u001b[0;32m     15\u001b[0m \u001b[1;33m\u001b[0m\u001b[0m\n\u001b[1;32m---> 16\u001b[1;33m \u001b[0mplotTraj\u001b[0m\u001b[1;33m(\u001b[0m\u001b[0mtraj\u001b[0m\u001b[1;33m)\u001b[0m\u001b[1;33m\u001b[0m\u001b[0m\n\u001b[0m",
        "\u001b[1;32m<ipython-input-5-ff140df131d1>\u001b[0m in \u001b[0;36mplotTraj\u001b[1;34m(D, clr, rad)\u001b[0m\n\u001b[0;32m      4\u001b[0m         \u001b[0mplt\u001b[0m\u001b[1;33m.\u001b[0m\u001b[0mplot\u001b[0m\u001b[1;33m(\u001b[0m\u001b[0mD\u001b[0m\u001b[1;33m[\u001b[0m\u001b[1;33m:\u001b[0m\u001b[1;33m,\u001b[0m\u001b[0ma\u001b[0m\u001b[1;33m,\u001b[0m\u001b[1;36m0\u001b[0m\u001b[1;33m]\u001b[0m\u001b[1;33m,\u001b[0m\u001b[0mD\u001b[0m\u001b[1;33m[\u001b[0m\u001b[1;33m:\u001b[0m\u001b[1;33m,\u001b[0m\u001b[0ma\u001b[0m\u001b[1;33m,\u001b[0m\u001b[1;36m1\u001b[0m\u001b[1;33m]\u001b[0m\u001b[1;33m,\u001b[0m\u001b[1;34m'-'\u001b[0m\u001b[1;33m+\u001b[0m\u001b[0mclr\u001b[0m\u001b[1;33m,\u001b[0m\u001b[0mlinewidth\u001b[0m\u001b[1;33m=\u001b[0m\u001b[1;36m2\u001b[0m\u001b[1;33m)\u001b[0m\u001b[1;33m\u001b[0m\u001b[0m\n\u001b[0;32m      5\u001b[0m         ar=plt.arrow(D[-2,a,0],D[-2,a,1],D[-1,a,0]-D[-2,a,0],D[-1,a,1]-D[-2,a,1],\n\u001b[1;32m----> 6\u001b[1;33m               length_includes_head=False,head_width=0.2,fc=clr)\n\u001b[0m\u001b[0;32m      7\u001b[0m         \u001b[0max\u001b[0m\u001b[1;33m.\u001b[0m\u001b[0madd_patch\u001b[0m\u001b[1;33m(\u001b[0m\u001b[0mar\u001b[0m\u001b[1;33m)\u001b[0m\u001b[1;33m\u001b[0m\u001b[0m\n\u001b[0;32m      8\u001b[0m     \u001b[0mc\u001b[0m\u001b[1;33m=\u001b[0m\u001b[0mplt\u001b[0m\u001b[1;33m.\u001b[0m\u001b[0mCircle\u001b[0m\u001b[1;33m(\u001b[0m\u001b[1;33m(\u001b[0m\u001b[1;36m0\u001b[0m\u001b[1;33m,\u001b[0m\u001b[1;36m0\u001b[0m\u001b[1;33m)\u001b[0m\u001b[1;33m,\u001b[0m\u001b[0mrad\u001b[0m\u001b[1;33m,\u001b[0m\u001b[0mfc\u001b[0m\u001b[1;33m=\u001b[0m\u001b[1;34m'r'\u001b[0m\u001b[1;33m,\u001b[0m\u001b[0malpha\u001b[0m\u001b[1;33m=\u001b[0m\u001b[1;36m0.1\u001b[0m\u001b[1;33m,\u001b[0m\u001b[0mec\u001b[0m\u001b[1;33m=\u001b[0m\u001b[0mNone\u001b[0m\u001b[1;33m)\u001b[0m\u001b[1;33m\u001b[0m\u001b[0m\n",
        "\u001b[1;32m/usr/lib/pymodules/python2.7/matplotlib/pyplot.pyc\u001b[0m in \u001b[0;36marrow\u001b[1;34m(x, y, dx, dy, hold, **kwargs)\u001b[0m\n\u001b[0;32m   2423\u001b[0m         \u001b[0max\u001b[0m\u001b[1;33m.\u001b[0m\u001b[0mhold\u001b[0m\u001b[1;33m(\u001b[0m\u001b[0mhold\u001b[0m\u001b[1;33m)\u001b[0m\u001b[1;33m\u001b[0m\u001b[0m\n\u001b[0;32m   2424\u001b[0m     \u001b[1;32mtry\u001b[0m\u001b[1;33m:\u001b[0m\u001b[1;33m\u001b[0m\u001b[0m\n\u001b[1;32m-> 2425\u001b[1;33m         \u001b[0mret\u001b[0m \u001b[1;33m=\u001b[0m \u001b[0max\u001b[0m\u001b[1;33m.\u001b[0m\u001b[0marrow\u001b[0m\u001b[1;33m(\u001b[0m\u001b[0mx\u001b[0m\u001b[1;33m,\u001b[0m \u001b[0my\u001b[0m\u001b[1;33m,\u001b[0m \u001b[0mdx\u001b[0m\u001b[1;33m,\u001b[0m \u001b[0mdy\u001b[0m\u001b[1;33m,\u001b[0m \u001b[1;33m**\u001b[0m\u001b[0mkwargs\u001b[0m\u001b[1;33m)\u001b[0m\u001b[1;33m\u001b[0m\u001b[0m\n\u001b[0m\u001b[0;32m   2426\u001b[0m         \u001b[0mdraw_if_interactive\u001b[0m\u001b[1;33m(\u001b[0m\u001b[1;33m)\u001b[0m\u001b[1;33m\u001b[0m\u001b[0m\n\u001b[0;32m   2427\u001b[0m     \u001b[1;32mfinally\u001b[0m\u001b[1;33m:\u001b[0m\u001b[1;33m\u001b[0m\u001b[0m\n",
        "\u001b[1;32m/usr/lib/pymodules/python2.7/matplotlib/axes.pyc\u001b[0m in \u001b[0;36marrow\u001b[1;34m(self, x, y, dx, dy, **kwargs)\u001b[0m\n\u001b[0;32m   6821\u001b[0m         \u001b[0mdy\u001b[0m \u001b[1;33m=\u001b[0m \u001b[0mself\u001b[0m\u001b[1;33m.\u001b[0m\u001b[0mconvert_yunits\u001b[0m\u001b[1;33m(\u001b[0m\u001b[0mdy\u001b[0m\u001b[1;33m)\u001b[0m\u001b[1;33m\u001b[0m\u001b[0m\n\u001b[0;32m   6822\u001b[0m \u001b[1;33m\u001b[0m\u001b[0m\n\u001b[1;32m-> 6823\u001b[1;33m         \u001b[0ma\u001b[0m \u001b[1;33m=\u001b[0m \u001b[0mmpatches\u001b[0m\u001b[1;33m.\u001b[0m\u001b[0mFancyArrow\u001b[0m\u001b[1;33m(\u001b[0m\u001b[0mx\u001b[0m\u001b[1;33m,\u001b[0m \u001b[0my\u001b[0m\u001b[1;33m,\u001b[0m \u001b[0mdx\u001b[0m\u001b[1;33m,\u001b[0m \u001b[0mdy\u001b[0m\u001b[1;33m,\u001b[0m \u001b[1;33m**\u001b[0m\u001b[0mkwargs\u001b[0m\u001b[1;33m)\u001b[0m\u001b[1;33m\u001b[0m\u001b[0m\n\u001b[0m\u001b[0;32m   6824\u001b[0m         \u001b[0mself\u001b[0m\u001b[1;33m.\u001b[0m\u001b[0madd_artist\u001b[0m\u001b[1;33m(\u001b[0m\u001b[0ma\u001b[0m\u001b[1;33m)\u001b[0m\u001b[1;33m\u001b[0m\u001b[0m\n\u001b[0;32m   6825\u001b[0m         \u001b[1;32mreturn\u001b[0m \u001b[0ma\u001b[0m\u001b[1;33m\u001b[0m\u001b[0m\n",
        "\u001b[1;32m/usr/lib/pymodules/python2.7/matplotlib/patches.pyc\u001b[0m in \u001b[0;36m__init__\u001b[1;34m(self, x, y, dx, dy, width, length_includes_head, head_width, head_length, shape, overhang, head_starts_at_zero, **kwargs)\u001b[0m\n\u001b[0;32m   1019\u001b[0m         \u001b[1;32melse\u001b[0m\u001b[1;33m:\u001b[0m\u001b[1;33m\u001b[0m\u001b[0m\n\u001b[0;32m   1020\u001b[0m             \u001b[0mlength\u001b[0m \u001b[1;33m=\u001b[0m \u001b[0mdistance\u001b[0m \u001b[1;33m+\u001b[0m \u001b[0mhead_length\u001b[0m\u001b[1;33m\u001b[0m\u001b[0m\n\u001b[1;32m-> 1021\u001b[1;33m         \u001b[1;32mif\u001b[0m \u001b[1;32mnot\u001b[0m \u001b[0mlength\u001b[0m\u001b[1;33m:\u001b[0m\u001b[1;33m\u001b[0m\u001b[0m\n\u001b[0m\u001b[0;32m   1022\u001b[0m             \u001b[0mverts\u001b[0m \u001b[1;33m=\u001b[0m \u001b[1;33m[\u001b[0m\u001b[1;33m]\u001b[0m  \u001b[1;31m# display nothing if empty\u001b[0m\u001b[1;33m\u001b[0m\u001b[0m\n\u001b[0;32m   1023\u001b[0m         \u001b[1;32melse\u001b[0m\u001b[1;33m:\u001b[0m\u001b[1;33m\u001b[0m\u001b[0m\n",
        "\u001b[1;31mValueError\u001b[0m: The truth value of an array with more than one element is ambiguous. Use a.any() or a.all()"
       ]
      },
      {
       "output_type": "stream",
       "stream": "stderr",
       "text": [
        "/usr/lib/pymodules/python2.7/matplotlib/figure.py:1595: UserWarning: This figure includes Axes that are not compatible with tight_layout, so its results might be incorrect.\n",
        "  warnings.warn(\"This figure includes Axes that are not \"\n"
       ]
      },
      {
       "metadata": {},
       "output_type": "display_data",
       "png": "[encoded data removed]",
       "text": [
        "<matplotlib.figure.Figure at 0x7f45daf51090>"
       ]
      }
     ],
     "prompt_number": 5
    },
    {
     "cell_type": "code",
     "collapsed": false,
     "input": [
      "import pystan"
     ],
     "language": "python",
     "metadata": {},
     "outputs": [],
     "prompt_number": 41
    },
    {
     "cell_type": "code",
     "collapsed": false,
     "input": [
      "14.5/85."
     ],
     "language": "python",
     "metadata": {},
     "outputs": [
      {
       "metadata": {},
       "output_type": "pyout",
       "prompt_number": 42,
       "text": [
        "0.17058823529411765"
       ]
      }
     ],
     "prompt_number": 42
    },
    {
     "cell_type": "code",
     "collapsed": false,
     "input": [
      "model='''\n",
      "data {\n",
      "    real v;// agent velocity\n",
      "    int T; // total event duration\n",
      "    int A; // number of agents\n",
      "}\n",
      "parameters {\n",
      "    vector<lower=-3,upper=3>[2] dxy;\n",
      "    real<lower=-0.1,upper=0.1> dt;\n",
      "    real<lower=-3.2,upper=3.2> phiS; // todo - \n",
      "    real<lower=-3.2,upper=3.2> phiW;\n",
      "}\n",
      "transformed parameters{\n",
      "    real velS[2];\n",
      "    real t0;\n",
      "    real trajS[T,2];\n",
      "    real trajW[T,2];\n",
      "    velS[1]<-v*cos(phiS); \n",
      "    velS[2]<-v*sin(phiS);\n",
      "    velW[1]<-v*cos(phiS+phiW); \n",
      "    velW[2]<-v*sin(phiS+phiW);\n",
      "    t0<- dt-1.5-T/2;\n",
      "    for (t in 1:T){\n",
      "        traj[t,a,1]<- dxy[a,1]+(t0+t)*velS[1];\n",
      "        traj[t,a,2]<- dxy[a,2]+(t0+t)*velS[2];\n",
      "    } }\n",
      "}\n",
      "model {\n",
      "    real a;\n",
      "    a<-2;\n",
      "\n",
      "}\n",
      "'''\n",
      "\n",
      "sm=pystan.StanModel(model_code=model)"
     ],
     "language": "python",
     "metadata": {},
     "outputs": []
    },
    {
     "cell_type": "code",
     "collapsed": false,
     "input": [
      "dat={'v':14.5/85.,'T':68,'A':3}\n",
      "seed=np.random.randint(2**16)\n",
      "fit=sm.sampling(data=dat,iter=60,chains=4,thin=1,warmup=20,n_jobs=1,seed=seed)\n",
      "print pystan.misc._print_stanfit(fit,pars=['dxy','dt','phi'],digits_summary=2)\n",
      "w= fit.extract()\n",
      "traj=w['traj']\n",
      "traj.shape"
     ],
     "language": "python",
     "metadata": {},
     "outputs": [
      {
       "output_type": "stream",
       "stream": "stderr",
       "text": [
        "INFO:pystan:NOW ON CHAIN 0\n"
       ]
      },
      {
       "output_type": "stream",
       "stream": "stderr",
       "text": [
        "INFO:pystan:NOW ON CHAIN 1\n"
       ]
      },
      {
       "output_type": "stream",
       "stream": "stderr",
       "text": [
        "INFO:pystan:NOW ON CHAIN 2\n"
       ]
      },
      {
       "output_type": "stream",
       "stream": "stderr",
       "text": [
        "INFO:pystan:NOW ON CHAIN 3\n"
       ]
      },
      {
       "output_type": "stream",
       "stream": "stdout",
       "text": [
        "Inference for Stan model: anon_model_3d5691377f8c500c79b7d634938b84ef.\n",
        "4 chains, each with iter=60; warmup=20; thin=1; \n",
        "post-warmup draws per chain=40, total post-warmup draws=160.\n",
        "\n",
        "         mean se_mean   sd 2.5%  25%  50%  75% 97.5% n_eff Rhat\n",
        "dxy[0,0] 0.12    0.24 1.75 -2.8-1.53  0.2  1.7  2.88  54.0 0.99\n",
        "dxy[1,0] 0.16    0.26 1.91-2.94-1.53  0.3 1.97  2.94  54.0 1.02\n",
        "dxy[2,0] 0.08    0.24 1.77 -2.8-1.52 0.22  1.6  2.86  54.0 1.01\n",
        "dxy[0,1]-0.07    0.24 1.75-2.79-1.67 -0.1 1.69  2.76  54.0  1.0\n",
        "dxy[1,1]-0.01    0.23 1.68-2.82-1.43  0.2 1.43   2.8  54.0  1.0\n",
        "dxy[2,1]-0.06    0.24 1.77 -2.9-1.39 -0.2  1.3  2.91  54.0 0.99\n",
        "dt[0]    -0.0    0.01 0.05-0.09-0.05-0.01 0.04   0.1  54.0 0.99\n",
        "dt[1]     0.0    0.01 0.05-0.09-0.04  0.0 0.04  0.09  54.0 0.99\n",
        "dt[2]     0.0    0.01 0.06-0.09-0.05  0.0 0.06  0.09  54.0  1.0\n",
        "phi[0]   0.08    0.26 1.88-3.08-1.66 0.17 1.78  3.07  54.0 0.99\n",
        "phi[1]  -0.12    0.25 1.86 -3.1-1.75 0.04 1.42  3.09  54.0  1.0\n",
        "phi[2]   -0.1    0.24 1.74-2.89-1.58-0.16  1.4  3.04  54.0 0.98\n",
        "\n",
        "Samples were drawn using NUTS(diag_e) at Sat May 24 17:46:50 2014.\n",
        "For each parameter, n_eff is a crude measure of effective sample size,\n",
        "and Rhat is the potential scale reduction factor on split chains (at \n",
        "convergence, Rhat=1).\n"
       ]
      },
      {
       "metadata": {},
       "output_type": "pyout",
       "prompt_number": 113,
       "text": [
        "(160, 68, 3, 2)"
       ]
      }
     ],
     "prompt_number": 113
    },
    {
     "cell_type": "code",
     "collapsed": false,
     "input": [
      "plotTraj(traj[0,:,:])"
     ],
     "language": "python",
     "metadata": {},
     "outputs": [
      {
       "metadata": {},
       "output_type": "display_data",
       "png": "[encoded data removed]",
       "text": [
        "<matplotlib.figure.Figure at 0x7f66be7e92d0>"
       ]
      }
     ],
     "prompt_number": 114
    },
    {
     "cell_type": "code",
     "collapsed": false,
     "input": [
      "w['dxy'][0,0,:]"
     ],
     "language": "python",
     "metadata": {},
     "outputs": [
      {
       "metadata": {},
       "output_type": "pyout",
       "prompt_number": 115,
       "text": [
        "array([ 2.29482681, -1.85851647])"
       ]
      }
     ],
     "prompt_number": 115
    },
    {
     "cell_type": "code",
     "collapsed": false,
     "input": [
      "w['phi'][0,:]/np.pi*180"
     ],
     "language": "python",
     "metadata": {},
     "outputs": [
      {
       "metadata": {},
       "output_type": "pyout",
       "prompt_number": 116,
       "text": [
        "array([ 147.05950341,   24.08416166,  -17.88966347])"
       ]
      }
     ],
     "prompt_number": 116
    },
    {
     "cell_type": "code",
     "collapsed": false,
     "input": [
      "w['dt'][0,:]"
     ],
     "language": "python",
     "metadata": {},
     "outputs": [
      {
       "metadata": {},
       "output_type": "pyout",
       "prompt_number": 117,
       "text": [
        "array([-0.05024943, -0.05296251,  0.00371626])"
       ]
      }
     ],
     "prompt_number": 117
    },
    {
     "cell_type": "code",
     "collapsed": false,
     "input": [
      "model='''\n",
      "data {\n",
      "    real v;// agent velocity\n",
      "    int T; // total event duration\n",
      "    int A; // number of agents\n",
      "}\n",
      "parameters {\n",
      "    vector<lower=-0.3,upper=0.3>[2] dxy;\n",
      "    real<lower=-0.1,upper=0.1> dt;\n",
      "    real<lower=-3.15,upper=3.15> phiS; // todo - find appropriate prior for angular dist\n",
      "    real<lower=-0.1,upper=0.1> phiW;\n",
      "    real<lower=0.75,upper=0.8> phiSW;\n",
      "    real<lower=1.9,upper=2.1> dSW;\n",
      "    //real<lower=0.001,upper=100> kphiS;\n",
      "    //real mphiS;\n",
      "}\n",
      "transformed parameters{\n",
      "    real velS[2];\n",
      "    real velW[2];\n",
      "    real t0;\n",
      "    real trajS[T,2];\n",
      "    real trajW[T,2];\n",
      "    real pW[2];\n",
      "    velS[1]<-v*cos(phiS); \n",
      "    velS[2]<-v*sin(phiS);\n",
      "    velW[1]<-v*cos(phiS+phiW); \n",
      "    velW[2]<-v*sin(phiS+phiW);\n",
      "    t0<- dt-1.5-T/2;\n",
      "    for (t in 1:T){\n",
      "        trajS[t,1]<- dxy[1]+(t0+t)*velS[1];\n",
      "        trajS[t,2]<- dxy[2]+(t0+t)*velS[2];\n",
      "    }\n",
      "    pW[1]<- -dSW*cos(phiSW+phiS)+trajS[T/2,1];\n",
      "    pW[2]<- -dSW*sin(phiSW+phiS)+trajS[T/2,2];\n",
      "    for (t in 1:T){\n",
      "        trajW[t,1]<- pW[1]+(t0+t)*velW[1];\n",
      "        trajW[t,2]<- pW[2]+(t0+t)*velW[2];\n",
      "    }\n",
      "}\n",
      "model {\n",
      "    phiS ~ von_mises(0,0.001);\n",
      "    //phiS~ von_mises(mphiS,kphiS);\n",
      "\n",
      "}\n",
      "'''\n",
      "\n",
      "sm=pystan.StanModel(model_code=model)"
     ],
     "language": "python",
     "metadata": {},
     "outputs": [
      {
       "output_type": "stream",
       "stream": "stderr",
       "text": [
        "INFO:pystan:COMPILING THE C++ CODE FOR MODEL anon_model_9ea28d13f8e8b6f4eea37fff48d7baf9 NOW.\n"
       ]
      }
     ],
     "prompt_number": 12
    },
    {
     "cell_type": "code",
     "collapsed": false,
     "input": [
      "dat={'v':14.5/85.,'T':68,'A':2}\n",
      "seed=np.random.randint(2**16)\n",
      "fit=sm.sampling(data=dat,iter=60,chains=4,thin=1,warmup=20,n_jobs=1,seed=seed)\n",
      "print pystan.misc._print_stanfit(fit,pars=['dxy','dt','phiS','phiW'],digits_summary=2)\n",
      "w= fit.extract()\n",
      "trajW=w['trajW']\n",
      "trajS=w['trajS']"
     ],
     "language": "python",
     "metadata": {},
     "outputs": [
      {
       "output_type": "stream",
       "stream": "stderr",
       "text": [
        "INFO:pystan:NOW ON CHAIN 0\n"
       ]
      },
      {
       "output_type": "stream",
       "stream": "stderr",
       "text": [
        "INFO:pystan:NOW ON CHAIN 1\n"
       ]
      },
      {
       "output_type": "stream",
       "stream": "stderr",
       "text": [
        "INFO:pystan:NOW ON CHAIN 2\n"
       ]
      },
      {
       "output_type": "stream",
       "stream": "stderr",
       "text": [
        "INFO:pystan:NOW ON CHAIN 3\n"
       ]
      },
      {
       "output_type": "stream",
       "stream": "stdout",
       "text": [
        "Inference for Stan model: anon_model_9ea28d13f8e8b6f4eea37fff48d7baf9.\n",
        "4 chains, each with iter=60; warmup=20; thin=1; \n",
        "post-warmup draws per chain=40, total post-warmup draws=160.\n",
        "\n",
        "       mean se_mean   sd 2.5%  25%  50%  75% 97.5% n_eff Rhat\n",
        "dxy[0] 0.02    0.02 0.18-0.29-0.14 0.03 0.18  0.29  54.0  1.0\n",
        "dxy[1] 0.01    0.02 0.18-0.28-0.15  0.0 0.16  0.28  54.0 0.99\n",
        "dt      0.0    0.01 0.05-0.09-0.04  0.0 0.04  0.09  54.0 0.99\n",
        "phiS  -0.25    0.28 2.03-3.07-2.08-0.47 1.55  3.08  52.0 0.99\n",
        "phiW   -0.0    0.01 0.06 -0.1-0.06-0.01 0.05  0.09  54.0 0.99\n",
        "\n",
        "Samples were drawn using NUTS(diag_e) at Tue Jun 10 10:07:23 2014.\n",
        "For each parameter, n_eff is a crude measure of effective sample size,\n",
        "and Rhat is the potential scale reduction factor on split chains (at \n",
        "convergence, Rhat=1).\n"
       ]
      }
     ],
     "prompt_number": 13
    },
    {
     "cell_type": "code",
     "collapsed": false,
     "input": [
      "shp=list(trajW.shape)\n",
      "shp.insert(2,2)\n",
      "traj=np.zeros(shp)\n",
      "traj[:,:,0,:]=trajS\n",
      "traj[:,:,1,:]=trajW\n",
      "plotTraj(traj[0,:,:,:])\n",
      "np.save('traj',traj)"
     ],
     "language": "python",
     "metadata": {},
     "outputs": [
      {
       "metadata": {},
       "output_type": "display_data",
       "png": "[encoded data removed]",
       "text": [
        "<matplotlib.figure.Figure at 0x7f45dae7fd90>"
       ]
      }
     ],
     "prompt_number": 14
    },
    {
     "cell_type": "code",
     "collapsed": false,
     "input": [
      "model='''\n",
      "data {\n",
      "    real v;// agent velocity\n",
      "    int T; // total event duration\n",
      "    int A; // number of agents\n",
      "    int N; // number of events\n",
      "    real traj[N,T,A,2];\n",
      "    real<lower=0> sigma;\n",
      "}\n",
      "parameters {\n",
      "    vector<lower=-1,upper=1>[2] dxy[N];\n",
      "    real<lower=-0.3,upper=0.3> mdt;\n",
      "    real<lower=0,upper=0.2> sdt;\n",
      "    real<lower=-0.3,upper=0.3> dt[N];\n",
      "    real<lower=-3.142,upper=3.142> phiS[N]; \n",
      "    real<lower=-3.142,upper=3.142> phiW;\n",
      "    real<lower=-3.142,upper=3.142> phiSW;\n",
      "    real<lower=0,upper=5> dSW;\n",
      "}\n",
      "transformed parameters{\n",
      "    real velS[2];\n",
      "    real velW[2];\n",
      "    real trajS[N,T,2];\n",
      "    real trajW[N,T,2];\n",
      "    real pW[2];\n",
      "    \n",
      "    for (n in 1:N){\n",
      "    velS[1]<-v*cos(phiS[n]); \n",
      "    velS[2]<-v*sin(phiS[n]);\n",
      "    velW[1]<-v*cos(phiS[n]+phiW); \n",
      "    velW[2]<-v*sin(phiS[n]+phiW);\n",
      "    for (t in 1:T){\n",
      "        trajS[n,t,1]<- dxy[n,1]+(dt[n]-1.5-T/2+t)*velS[1];\n",
      "        trajS[n,t,2]<- dxy[n,2]+(dt[n]-1.5-T/2+t)*velS[2];\n",
      "    }\n",
      "    pW[1]<- -dSW*cos(phiSW+phiS[n])+trajS[n,T/2,1];\n",
      "    pW[2]<- -dSW*sin(phiSW+phiS[n])+trajS[n,T/2,2];\n",
      "    for (t in 1:T){\n",
      "        trajW[n,t,1]<- pW[1]+(dt[n]-1.5-T/2+t)*velW[1];\n",
      "        trajW[n,t,2]<- pW[2]+(dt[n]-1.5-T/2+t)*velW[2];\n",
      "    }}\n",
      "}\n",
      "model {\n",
      "    vector[A] distS;\n",
      "    vector[A] distW;\n",
      "    int agmin[4];\n",
      "    real mind[4];\n",
      "    phiSW ~ von_mises(0,0.001);\n",
      "    phiW ~ von_mises(0,0.001);\n",
      "    for (n in 1:N){\n",
      "        phiS[n]~ von_mises(0,0.001);\n",
      "        dt[n]~normal(mdt,sdt);\n",
      "    for (i in 1:4) mind[i]<-999;\n",
      "    for (a in 1:A){\n",
      "        distS[a]<-0;\n",
      "        for (t in 1:T) {\n",
      "            distS[a]<- distS[a]+sqrt(square(traj[n,t,a,1]-trajS[n,t,1])+\n",
      "                square(traj[n,t,a,2]-trajS[n,t,2]));\n",
      "            distW[a]<- distW[a]+sqrt(square(traj[n,t,a,1]-trajW[n,t,1])+\n",
      "                square(traj[n,t,a,2]-trajW[n,t,2]));\n",
      "        }\n",
      "        distS[a]<- distS[a]/T;\n",
      "        distW[a]<- distW[a]/T;\n",
      "        if (distS[a]<mind[1]){ mind[1]<-distS[a];agmin[1]<-a;}\n",
      "        else if (distS[a]<mind[2]){ mind[2]<-distS[a];agmin[2]<-a;}\n",
      "        if (distW[a]<mind[3]){ mind[3]<-distW[a];agmin[3]<-a;}\n",
      "        else if (distW[a]<mind[4]){ mind[4]<-distW[a];agmin[4]<-a;}\n",
      "    }\n",
      "    if (agmin[1]==agmin[3]){\n",
      "        if (square(mind[2])+square(mind[3])<square(mind[1])+square(mind[4])){\n",
      "        increment_log_prob(normal_log(mind[2],0,sigma));\n",
      "        increment_log_prob(normal_log(mind[3],0,sigma));\n",
      "        } else {\n",
      "        increment_log_prob(normal_log(mind[1],0,sigma));\n",
      "        increment_log_prob(normal_log(mind[4],0,sigma));\n",
      "    }} else{\n",
      "        increment_log_prob(normal_log(mind[1],0,sigma));\n",
      "        increment_log_prob(normal_log(mind[3],0,sigma));\n",
      "    }}\n",
      "}\n",
      "'''\n",
      "\n",
      "smr=pystan.StanModel(model_code=model)"
     ],
     "language": "python",
     "metadata": {},
     "outputs": [],
     "prompt_number": 2
    },
    {
     "cell_type": "code",
     "collapsed": false,
     "input": [
      "traj=np.load('traj.npy')\n",
      "dat={'v':14.5/85.,'T':traj.shape[1],'A':traj.shape[2],'N':traj.shape[0],'traj':traj,'sigma':0.1}\n",
      "seed=np.random.randint(2**16)\n",
      "prs=['mdt','sdt','phiW','phiSW','dSW']\n",
      "fit=smr.sampling(data=dat,iter=400,chains=4,thin=1,warmup=200,n_jobs=4,seed=seed,pars=prs)\n",
      "print pystan.misc._print_stanfit(fit,pars=prs,digits_summary=2)"
     ],
     "language": "python",
     "metadata": {},
     "outputs": [
      {
       "output_type": "stream",
       "stream": "stdout",
       "text": [
        "Inference for Stan model: anon_model_8fd19499b75ec5b6c600431561c5c8eb.\n",
        "4 chains, each with iter=400; warmup=200; thin=1; \n",
        "post-warmup draws per chain=200, total post-warmup draws=800.\n",
        "\n",
        "      mean se_mean   sd 2.5%  25%  50%  75% 97.5% n_eff Rhat\n",
        "mdt  -0.06     0.1 0.14-0.26-0.18-0.06 0.03  0.21   2.0 4.46\n",
        "sdt   0.04    0.01 0.03 0.01 0.02 0.04 0.06  0.11   4.0 1.99\n",
        "phiW  0.06    0.11 1.76-2.96-1.45 0.04 1.56  2.98 267.0  1.0\n",
        "phiSW-0.05    0.11 1.77-2.97-1.55-0.06 1.39  2.99 267.0  1.0\n",
        "dSW   2.48    0.09 1.53 0.11  1.0 2.52 3.89  4.91 267.0  1.0\n",
        "\n",
        "Samples were drawn using NUTS(diag_e) at Sat Jun 21 19:46:00 2014.\n",
        "For each parameter, n_eff is a crude measure of effective sample size,\n",
        "and Rhat is the potential scale reduction factor on split chains (at \n",
        "convergence, Rhat=1).\n"
       ]
      },
      {
       "output_type": "stream",
       "stream": "stderr",
       "text": [
        "INFO:pystan:NOW ON CHAIN 0\n",
        "INFO:pystan:NOW ON CHAIN 1\n",
        "INFO:pystan:NOW ON CHAIN 2\n",
        "INFO:pystan:NOW ON CHAIN 3\n"
       ]
      }
     ],
     "prompt_number": 4
    },
    {
     "cell_type": "code",
     "collapsed": false,
     "input": [],
     "language": "python",
     "metadata": {},
     "outputs": []
    }
   ],
   "metadata": {}
  }
 ]
}