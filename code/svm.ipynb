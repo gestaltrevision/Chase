{
 "metadata": {
  "name": "",
  "signature": "sha256:a5718f795560b47c34ae5912ec84b8c82dedc3062bfbb4ca73803ac0a77e9873"
 },
 "nbformat": 3,
 "nbformat_minor": 0,
 "worksheets": [
  {
   "cells": [
    {
     "cell_type": "code",
     "collapsed": false,
     "input": [
      "%pylab inline\n",
      "from PercFields import SexportSvm, initPath\n",
      "from commands import getstatusoutput\n",
      "import os,pickle"
     ],
     "language": "python",
     "metadata": {},
     "outputs": [
      {
       "output_type": "stream",
       "stream": "stdout",
       "text": [
        "Populating the interactive namespace from numpy and matplotlib\n"
       ]
      }
     ],
     "prompt_number": 1
    },
    {
     "cell_type": "code",
     "collapsed": false,
     "input": [
      "vp=1; ev=0\n",
      "fn='/home/matus/Desktop/Chase/evaluation/vp%03d/E%d/svm/e0e1'%(vp,ev)\n",
      "d=np.load(fn+'.npy')\n",
      "betas=np.arange(-5,15,1)\n",
      "cs=np.arange(-5,15,1)\n",
      "X,Y=np.meshgrid(betas,cs)\n",
      "plt.pcolor(X,Y,d);\n",
      "am=np.nonzero(d==np.max(d))\n",
      "beta=np.arange(-5,15,1)[am[0][0]]\n",
      "c=np.exp(np.arange(-5,15,1)[am[1][0]])\n",
      "print 'beta=',beta, ',c=',c\n",
      "print np.max(d),np.min(d)"
     ],
     "language": "python",
     "metadata": {},
     "outputs": [
      {
       "output_type": "stream",
       "stream": "stdout",
       "text": [
        "beta= 1 ,c= 54.5981500331\n",
        "0.80251 0.646374\n"
       ]
      },
      {
       "metadata": {},
       "output_type": "display_data",
       "png": "[encoded data removed]",
       "text": [
        "<matplotlib.figure.Figure at 0x7f89f8ec0cd0>"
       ]
      }
     ],
     "prompt_number": 2
    },
    {
     "cell_type": "code",
     "collapsed": false,
     "input": [
      "SexportSvm(vp,ev,beta)"
     ],
     "language": "python",
     "metadata": {},
     "outputs": [
      {
       "output_type": "stream",
       "stream": "stdout",
       "text": [
        "Exporting\n",
        "Export Finished"
       ]
      },
      {
       "output_type": "stream",
       "stream": "stdout",
       "text": [
        "\n"
       ]
      }
     ],
     "prompt_number": 4
    },
    {
     "cell_type": "code",
     "collapsed": false,
     "input": [
      "status,output=getstatusoutput('svm-train -s '+\n",
      "    '0 -t 4 -v 5 -c %f %s.in'%(c,fn))\n",
      "print output"
     ],
     "language": "python",
     "metadata": {},
     "outputs": []
    },
    {
     "cell_type": "code",
     "collapsed": false,
     "input": [
      "status,output=getstatusoutput('svm-train -s '+\n",
      "    '0 -t 4 -c %f %s.in %s.model'%(c,fn,fn))"
     ],
     "language": "python",
     "metadata": {},
     "outputs": [],
     "prompt_number": 5
    },
    {
     "cell_type": "code",
     "collapsed": false,
     "input": [
      "# let's see what support vectors were selected\n",
      "\n",
      "f=open(fn+'.model','r')\n",
      "svs=[]\n",
      "weights=[]\n",
      "svon=False\n",
      "k=0\n",
      "for line in f.readlines():\n",
      "    words=line.rstrip('\\n')\n",
      "    if words == 'SV':\n",
      "        svon=True\n",
      "        continue\n",
      "    words=words.rsplit(' ')\n",
      "    if words[0] == 'rho': weights.append(float(words[1]))\n",
      "    if svon:\n",
      "        weights.append(float(words[0]))\n",
      "        words=words[1].rsplit(':')[1]\n",
      "        svs.append(int(words))\n",
      "f.close()\n",
      "weights=np.array(weights)\n",
      "svs=np.array(svs)-1\n",
      "print svs.shape, weights.shape"
     ],
     "language": "python",
     "metadata": {},
     "outputs": [
      {
       "output_type": "stream",
       "stream": "stdout",
       "text": [
        "(11090,) (11091,)\n"
       ]
      }
     ],
     "prompt_number": 5
    },
    {
     "cell_type": "code",
     "collapsed": false,
     "input": [
      "x=np.random.rand(64*64*68)*255\n",
      "\n",
      "def Svector(x,weights,svs,beta):\n",
      "    '''\n",
      "    compute similarity between x and the select perc fields\n",
      "    svs gives the indice of selected perc fields\n",
      "    then compute the objective function for C-svm\n",
      "    this is (w^T x - b)\n",
      "    weights are weights and b is in weights[0]\n",
      "    '''\n",
      "    def _compsim(inp,dg,ds,N,svvs):\n",
      "        S=np.zeros(dg)*np.nan\n",
      "        for pf in range(0,N):\n",
      "            D=np.load(inp+'%s/%s%03d.npy'%(pfn,pfn,pf))\n",
      "            Spart=np.zeros(D.shape[0])*np.nan\n",
      "            for n in range(D.shape[0]):\n",
      "                if (pf*ds+n)!=svvs[0]: continue\n",
      "                svvs=svvs[1:];   \n",
      "                a=np.float32(D[n,:,:,0,:]) \n",
      "                Spart[n]=(np.square(a-x)*mask).sum()\n",
      "                Spart=np.sqrt(Spart)\n",
      "                S[pf*ds:(pf*ds+Spart.size)]=Spart\n",
      "        return S,svvs\n",
      "    pfn='PF'\n",
      "    path=os.getcwd().rstrip('code')+'evaluation/vp%03d/'%vp\n",
      "    inpa=path+'E%d/'%ev\n",
      "    inpb=path+'E%d/'%(ev+1)\n",
      "    f=open(inpa+'%s.pars'%pfn,'r');\n",
      "    dat=pickle.load(f);f.close();N1=dat['N']+1\n",
      "    f=open(inpb+'%s.pars'%pfn,'r');\n",
      "    dat=pickle.load(f);f.close();N2=dat['N']+1\n",
      "    D1=np.load(inpa+'%s/%s000.npy'%(pfn,pfn))\n",
      "    D2=np.load(inpb+'%s/%s000.npy'%(pfn,pfn))\n",
      "    ds1=D1.shape[0];ds2=D2.shape[0];\n",
      "    assert dat['os']==D1.shape[1]\n",
      "    P=D1.shape[1];F=D1.shape[4]\n",
      "    dga=np.load(inpa+'DG.npy').shape[0]\n",
      "    dgb=np.load(inpb+'DG.npy').shape[0]\n",
      "    # create mask with circular aperture\n",
      "    mid=(P-1)/2.0\n",
      "    try: mask=np.load('mask.npy')\n",
      "    except IOError:\n",
      "        mask=np.zeros((P,P,F),dtype=np.bool8)\n",
      "        for i in range(P):\n",
      "            for j in range(P):\n",
      "                if np.sqrt((i-mid)**2+(j-mid)**2)<=P/2.0: mask[i,j,:]=True\n",
      "        np.save('mask',mask)\n",
      "    x=np.reshape(x,[P,P,F])\n",
      "    #ww=np.zeros(dga+dgb)\n",
      "    ww=weights[1:]\n",
      "    svvs=np.copy(svs)\n",
      "    [S1,svvs]= _compsim(inpa,dga,ds1,N1,svvs)\n",
      "    [S2,svvs]= _compsim(inpb,dgb,ds2,N2,svvs-dga)\n",
      "    S=np.concatenate([S1,S2],axis=0)\n",
      "    # did we select svs properly\n",
      "    assert len(svvs)==0\n",
      "    assert np.isnan(S).sum()== (S.size-len(svs))\n",
      "    if np.any(S==0): print 'x is support vector',np.sum(S==0)\n",
      "    K=np.exp(-np.exp(beta)*S/5000.)\n",
      "    K=K[~np.isnan(K)]\n",
      "    return ww.dot(K)-weights[0]\n",
      "pf=np.load('/home/matus/Desktop/Chase/evaluation/vp001/E0/PF/PF000.npy')\n",
      "v=np.float32(pf[86,:,:,0,:].flatten())\n",
      "Svector(v,weights,svs,beta)"
     ],
     "language": "python",
     "metadata": {},
     "outputs": [
      {
       "output_type": "stream",
       "stream": "stdout",
       "text": [
        "x is support vector 1000\n"
       ]
      },
      {
       "metadata": {},
       "output_type": "pyout",
       "prompt_number": 87,
       "text": [
        "-3.0392766503379849"
       ]
      }
     ],
     "prompt_number": 87
    },
    {
     "cell_type": "code",
     "collapsed": false,
     "input": [
      "\n",
      "k=0;g=0\n",
      "for n in range(51):\n",
      "    pf=np.load('/home/matus/Desktop/Chase/evaluation/vp001/E0/PF/PF%03d.npy'%n)\n",
      "    for i in range(pf.shape[0]): \n",
      "        k+=int(np.all(pf[i,:,:,0,:]==0))\n",
      "    g+=pf.shape[0]\n",
      "print k,g, k/float(g)"
     ],
     "language": "python",
     "metadata": {},
     "outputs": [
      {
       "output_type": "stream",
       "stream": "stdout",
       "text": [
        "484 10760 0.0449814126394\n"
       ]
      }
     ],
     "prompt_number": 99
    },
    {
     "cell_type": "code",
     "collapsed": false,
     "input": [
      "#Svector(v,weights,svs)\n",
      "(np.square((x.reshape([64,64,68])-np.float32(v)))*mask).sum()"
     ],
     "language": "python",
     "metadata": {},
     "outputs": [
      {
       "metadata": {},
       "output_type": "pyout",
       "prompt_number": 43,
       "text": [
        "4674538812.1604643"
       ]
      }
     ],
     "prompt_number": 43
    },
    {
     "cell_type": "code",
     "collapsed": false,
     "input": [
      "E=np.load('/home/matus/Desktop/Chase/evaluation/vp001/E0/DG.npy')\n",
      "E.shape"
     ],
     "language": "python",
     "metadata": {},
     "outputs": [
      {
       "metadata": {},
       "output_type": "pyout",
       "prompt_number": 100,
       "text": [
        "(10760, 68, 14, 3)"
       ]
      }
     ],
     "prompt_number": 100
    },
    {
     "cell_type": "code",
     "collapsed": false,
     "input": [
      "\n",
      "def traj2avi(traj,fn='test'):\n",
      "    for f in range(traj.shape[0]):\n",
      "        plt.plot(traj[f,:,0],traj[f,:,1],'o')\n",
      "        plt.xlim([-5,5]);plt.ylim([-5,5])\n",
      "        ax=plt.gca();\n",
      "        ax.set_aspect(1); \n",
      "        ax.set_xticks([])\n",
      "        ax.set_yticks([]);\n",
      "        plt.savefig('fig%03d.png'%f,bbox_inches='tight')\n",
      "        plt.cla()\n",
      "    getstatusoutput('ffmpeg -i fig%03d.png -r 50 -y '+fn+'.avi')\n",
      "    getstatusoutput('rm fig***.png');\n",
      "traj2avi(E[86,:,:,:])"
     ],
     "language": "python",
     "metadata": {},
     "outputs": [
      {
       "metadata": {},
       "output_type": "display_data",
       "png": "[encoded data removed]",
       "text": [
        "<matplotlib.figure.Figure at 0x7f89be5a6650>"
       ]
      }
     ],
     "prompt_number": 116
    },
    {
     "cell_type": "code",
     "collapsed": false,
     "input": [
      "pff=np.load('/home/matus/Desktop/Chase/evaluation/vp001/E0/PFC/PFC000.npy')\n",
      "pf=pff[0,:,:,0,:]\n",
      "f=32\n",
      "plt.imshow(pf[:,:,f],vmax=255,vmin=0)"
     ],
     "language": "python",
     "metadata": {},
     "outputs": [
      {
       "metadata": {},
       "output_type": "pyout",
       "prompt_number": 138,
       "text": [
        "<matplotlib.image.AxesImage at 0x7f89ba584ad0>"
       ]
      },
      {
       "metadata": {},
       "output_type": "display_data",
       "png": "[encoded data removed]",
       "text": [
        "<matplotlib.figure.Figure at 0x7f89ba6fac90>"
       ]
      }
     ],
     "prompt_number": 138
    },
    {
     "cell_type": "code",
     "collapsed": false,
     "input": [
      "pff=np.load('/home/matus/Desktop/Chase/evaluation/vp001/E0/PF/PF000.npy')\n",
      "for n in range(pff.shape[0]):\n",
      "    pf=pff[n,:,:,0,:]\n",
      "    print n,np.max(pf),np.min(pf)\n",
      "    if n>100: break"
     ],
     "language": "python",
     "metadata": {},
     "outputs": [
      {
       "output_type": "stream",
       "stream": "stdout",
       "text": [
        "0 47 0\n",
        "1 5 0\n",
        "2 2 0\n",
        "3 2 0\n",
        "4 15 0\n",
        "5 2 0\n",
        "6 2 0\n",
        "7 1 0\n",
        "8 2 0\n",
        "9 1 0\n",
        "10 16 0\n",
        "11 2 0\n",
        "12 7 0\n",
        "13 6 0\n",
        "14 3 0\n",
        "15 10 0\n",
        "16 4 0\n",
        "17 15 0\n",
        "18 7 0\n",
        "19 10 0\n",
        "20 4 0\n",
        "21 26 0\n",
        "22 9 0\n",
        "23 3 0\n",
        "24 5 0\n",
        "25 2 0\n",
        "26 5 0\n",
        "27 26 0\n",
        "28 16 0\n",
        "29 34 0\n",
        "30 11 0\n",
        "31 7 0\n",
        "32 10 0\n",
        "33 10 0\n",
        "34 11 0\n",
        "35 5 0\n",
        "36 3 0\n",
        "37 30 0\n",
        "38 7 0\n",
        "39 4 0\n",
        "40 2 0\n",
        "41 4 0\n",
        "42 3 0\n",
        "43 26 0\n",
        "44 48 0\n",
        "45 11 0\n",
        "46 30 0\n",
        "47 46 0\n",
        "48 48 0\n",
        "49 60 0\n",
        "50 23 0\n",
        "51 44 0\n",
        "52 37 0\n",
        "53 38 0\n",
        "54 21 0\n",
        "55 3 0\n",
        "56 27 0\n",
        "57 38 0\n",
        "58 5 0\n",
        "59 17 0\n",
        "60 3 0\n",
        "61 16 0\n",
        "62 42 0\n",
        "63 12 0\n",
        "64 37 0\n",
        "65 4 0\n",
        "66 8 0\n",
        "67 57 0\n",
        "68 20 0\n",
        "69 6 0\n",
        "70 35 0\n",
        "71 6 0\n",
        "72 2 0\n",
        "73 4 0\n",
        "74 3 0\n",
        "75 4 0\n",
        "76 4 0\n",
        "77 4 0\n",
        "78 4 0\n",
        "79 44 0\n",
        "80 5 0\n",
        "81 45 0\n",
        "82 4 0\n",
        "83 10 0\n",
        "84 4 "
       ]
      },
      {
       "output_type": "stream",
       "stream": "stdout",
       "text": [
        "0\n",
        "85 3 0\n",
        "86 0 0\n",
        "87 2 0\n",
        "88 33 0\n",
        "89 4 0\n",
        "90 47 0\n",
        "91 18 0\n",
        "92 49 0\n",
        "93 0 0\n",
        "94 34 0\n",
        "95 26 0\n",
        "96 34 0\n",
        "97 4 0\n",
        "98 51 0\n",
        "99 2 0\n",
        "100 2 0\n",
        "101 0 0\n"
       ]
      }
     ],
     "prompt_number": 134
    },
    {
     "cell_type": "code",
     "collapsed": false,
     "input": [
      "pff=np.load('/home/matus/Desktop/Chase/evaluation/vp001/E0/PFB/PFB000.npy')\n",
      "for n in range(pff.shape[0]):\n",
      "    pf=pff[n,:,:,0,:]\n",
      "    print n,np.max(pf),np.min(pf)\n",
      "    if n>100: break"
     ],
     "language": "python",
     "metadata": {},
     "outputs": [
      {
       "output_type": "stream",
       "stream": "stdout",
       "text": [
        "0 189 0\n",
        "1 60 0\n",
        "2 255 0\n",
        "3 30 0\n",
        "4 250 0\n",
        "5 37 0\n",
        "6 184 0\n",
        "7 23 0\n",
        "8 169 0\n",
        "9 157 0\n",
        "10 143 0\n",
        "11 92 0\n",
        "12 35 0\n",
        "13 47 0\n",
        "14 65 0\n",
        "15 124 0\n",
        "16 73 0\n",
        "17 82 0\n",
        "18 87 0\n",
        "19 59 0\n",
        "20 30 0\n",
        "21 104 0\n",
        "22 109 0\n",
        "23 172 0\n",
        "24 121 0\n",
        "25 28 0\n",
        "26 58 0\n",
        "27 183 0\n",
        "28 102 0\n",
        "29 50 0\n",
        "30 112 0\n",
        "31 34 0\n",
        "32 65 0\n",
        "33 66 0\n",
        "34 55 0\n",
        "35 60 0\n",
        "36 46 0\n",
        "37 67 0\n",
        "38 65 0\n",
        "39 44 0\n",
        "40 26 0\n",
        "41 26 0\n",
        "42 24 0\n",
        "43 25 0\n",
        "44 27 0\n",
        "45 30 0\n",
        "46 43 0\n",
        "47 35 0\n",
        "48 29 0\n",
        "49 147 0\n",
        "50 160 0\n",
        "51 55 0\n",
        "52 26 0\n",
        "53 39 0\n",
        "54 31 0\n",
        "55 74 0\n",
        "56 38 0\n",
        "57 50 0\n",
        "58 35 0\n",
        "59 64 0\n",
        "60 60 0\n",
        "61 31 0\n",
        "62 235 0\n",
        "63 43 0\n",
        "64 41 0\n",
        "65 59 0\n",
        "66 40 0\n",
        "67 42 0\n",
        "68 45 0\n",
        "69 42 0\n",
        "70 162 0\n",
        "71 163 0\n",
        "72 50 0\n",
        "73 72 0\n",
        "74 93 0\n",
        "75 59 0\n",
        "76 81 0\n",
        "77 32 0\n",
        "78 100 0\n",
        "79 53 0\n",
        "80 205 0\n",
        "81 27 0\n",
        "82 32 0\n",
        "83 9 0\n",
        "84 217 0\n",
        "85 12 0\n",
        "86 255 0\n",
        "87 27 "
       ]
      },
      {
       "output_type": "stream",
       "stream": "stdout",
       "text": [
        "0\n",
        "88 185 0\n",
        "89 42 0\n",
        "90 204 0\n",
        "91 159 0\n",
        "92 47 0\n",
        "93 80 0\n",
        "94 55 0\n",
        "95 186 0\n",
        "96 51 0\n",
        "97 39 0\n",
        "98 39 0\n",
        "99 233 0\n",
        "100 34 0\n",
        "101 188 0\n"
       ]
      }
     ],
     "prompt_number": 135
    },
    {
     "cell_type": "code",
     "collapsed": false,
     "input": [
      "pff=np.load('/home/matus/Desktop/Chase/evaluation/vp001/E0/PFC/PFC000.npy')\n",
      "for n in range(pff.shape[0]):\n",
      "    pf=pff[n,:,:,0,:]\n",
      "    print n,np.max(pf),np.min(pf)\n",
      "    if n>100: break"
     ],
     "language": "python",
     "metadata": {},
     "outputs": [
      {
       "output_type": "stream",
       "stream": "stdout",
       "text": [
        "0 250 0\n",
        "1 32 0\n",
        "2 39 0\n",
        "3 13 0\n",
        "4 33 0\n",
        "5 12 0\n",
        "6 25 0\n",
        "7 41 0\n",
        "8 166 0\n",
        "9 150 0\n",
        "10 28 0\n",
        "11 17 0\n",
        "12 27 0\n",
        "13 43 0\n",
        "14 57 0\n",
        "15 60 0\n",
        "16 73 0\n",
        "17 155 0\n",
        "18 78 0\n",
        "19 144 0\n",
        "20 47 0\n",
        "21 142 0\n",
        "22 112 0\n",
        "23 43 0\n",
        "24 72 0\n",
        "25 51 0\n",
        "26 71 0\n",
        "27 72 0\n",
        "28 40 0\n",
        "29 184 0\n",
        "30 186 0\n",
        "31 53 0\n",
        "32 82 0\n",
        "33 211 0\n",
        "34 243 0\n",
        "35 182 0\n",
        "36 175 0\n",
        "37 168 0\n",
        "38 191 0\n",
        "39 24 0\n",
        "40 193 0\n",
        "41 31 0\n",
        "42 192 0\n",
        "43 205 0\n",
        "44 227 0\n",
        "45 255 0\n",
        "46 254 0\n",
        "47 249 0\n",
        "48 231 0\n",
        "49 160 0\n",
        "50 189 0\n",
        "51 97 0\n",
        "52 230 0\n",
        "53 49 0\n",
        "54 186 0\n",
        "55 63 0\n",
        "56 226 0\n",
        "57 46 0\n",
        "58 229 0\n",
        "59 31 0\n",
        "60 194 0\n",
        "61 6 0\n",
        "62 181 0\n",
        "63 16 0\n",
        "64 188 0\n",
        "65 24 0\n",
        "66 175 0\n",
        "67 255 0\n",
        "68 176 0\n",
        "69 17 0\n",
        "70 168 0\n",
        "71 197 0\n",
        "72 121 0\n",
        "73 91 0\n",
        "74 193 0\n",
        "75 82 0\n",
        "76 21 0\n",
        "77 229 0\n",
        "78 19 0\n",
        "79 192 0\n",
        "80 62 0\n",
        "81 235 0\n",
        "82 36 0\n",
        "83 194 0\n",
        "84 98 0\n",
        "85 44 0\n",
        "86 244 0\n",
        "87 42 0\n",
        "88 186 0\n",
        "89 "
       ]
      },
      {
       "output_type": "stream",
       "stream": "stdout",
       "text": [
        "34 0\n",
        "90 249 0\n",
        "91 240 0\n",
        "92 62 0\n",
        "93 27 0\n",
        "94 186 0\n",
        "95 30 0\n",
        "96 42 0\n",
        "97 38 0\n",
        "98 70 0\n",
        "99 233 0\n",
        "100 64 0\n",
        "101 188 0\n"
       ]
      }
     ],
     "prompt_number": 137
    },
    {
     "cell_type": "code",
     "collapsed": false,
     "input": [],
     "language": "python",
     "metadata": {},
     "outputs": [],
     "prompt_number": 139
    },
    {
     "cell_type": "code",
     "collapsed": false,
     "input": [
      "import psychopy"
     ],
     "language": "python",
     "metadata": {},
     "outputs": [],
     "prompt_number": 148
    },
    {
     "cell_type": "code",
     "collapsed": false,
     "input": [
      "w.close()"
     ],
     "language": "python",
     "metadata": {},
     "outputs": [
      {
       "output_type": "stream",
       "stream": "stdout",
       "text": [
        "19889.7111 \tWARNING \tCreating new monitor...\n"
       ]
      },
      {
       "output_type": "stream",
       "stream": "stdout",
       "text": [
        "19889.7112 \tWARNING \tCreating new monitor...\n"
       ]
      }
     ],
     "prompt_number": 144
    },
    {
     "cell_type": "code",
     "collapsed": false,
     "input": [],
     "language": "python",
     "metadata": {},
     "outputs": [
      {
       "metadata": {},
       "output_type": "pyout",
       "prompt_number": 149,
       "text": [
        "'1.80.06'"
       ]
      }
     ],
     "prompt_number": 149
    },
    {
     "cell_type": "code",
     "collapsed": false,
     "input": [],
     "language": "python",
     "metadata": {},
     "outputs": []
    }
   ],
   "metadata": {}
  }
 ]
}